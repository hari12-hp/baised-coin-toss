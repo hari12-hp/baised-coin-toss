{
 "cells": [
  {
   "cell_type": "code",
   "execution_count": 1,
   "id": "7bcb72ab",
   "metadata": {},
   "outputs": [],
   "source": [
    "import random"
   ]
  },
  {
   "cell_type": "code",
   "execution_count": 31,
   "id": "719fe00f",
   "metadata": {},
   "outputs": [
    {
     "name": "stdout",
     "output_type": "stream",
     "text": [
      "alright you are saying head has chance with a probability of 35%, lets see\n",
      "congrats,we have got head\n"
     ]
    }
   ],
   "source": [
    "\n",
    "def coin_toss(side,bias):\n",
    "    global favoured, non_favoured \n",
    "    print(f'alright you are saying {side} has chance with a probability of {bias}%, lets see')\n",
    "    \n",
    "    confidence = float(bias/100)\n",
    "    if random.random()<confidence:\n",
    "        print(f'congrats,we have got {side}')\n",
    "        \n",
    "    else:\n",
    "\n",
    "        print(f'bad luck,we didnt get {side}')\n",
    "        \n",
    "\n",
    "coin_toss('head',35)"
   ]
  }
 ],
 "metadata": {
  "kernelspec": {
   "display_name": "Python 3",
   "language": "python",
   "name": "python3"
  },
  "language_info": {
   "codemirror_mode": {
    "name": "ipython",
    "version": 3
   },
   "file_extension": ".py",
   "mimetype": "text/x-python",
   "name": "python",
   "nbconvert_exporter": "python",
   "pygments_lexer": "ipython3",
   "version": "3.12.5"
  }
 },
 "nbformat": 4,
 "nbformat_minor": 5
}
